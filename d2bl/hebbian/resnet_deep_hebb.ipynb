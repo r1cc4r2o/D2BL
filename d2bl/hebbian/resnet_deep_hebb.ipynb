{
 "cells": [
  {
   "cell_type": "code",
   "execution_count": 1,
   "metadata": {},
   "outputs": [
    {
     "name": "stderr",
     "output_type": "stream",
     "text": [
      "c:\\Users\\andre\\anaconda3\\envs\\elsr-test\\lib\\site-packages\\tqdm\\auto.py:21: TqdmWarning: IProgress not found. Please update jupyter and ipywidgets. See https://ipywidgets.readthedocs.io/en/stable/user_install.html\n",
      "  from .autonotebook import tqdm as notebook_tqdm\n"
     ]
    }
   ],
   "source": [
    "import torch\n",
    "import torch.nn as nn\n",
    "import torchvision\n",
    "import torchvision.transforms as transforms"
   ]
  },
  {
   "cell_type": "code",
   "execution_count": 2,
   "metadata": {},
   "outputs": [
    {
     "name": "stderr",
     "output_type": "stream",
     "text": [
      "c:\\Users\\andre\\anaconda3\\envs\\elsr-test\\lib\\site-packages\\torchvision\\models\\_utils.py:208: UserWarning: The parameter 'pretrained' is deprecated since 0.13 and may be removed in the future, please use 'weights' instead.\n",
      "  warnings.warn(\n",
      "c:\\Users\\andre\\anaconda3\\envs\\elsr-test\\lib\\site-packages\\torchvision\\models\\_utils.py:223: UserWarning: Arguments other than a weight enum or `None` for 'weights' are deprecated since 0.13 and may be removed in the future. The current behavior is equivalent to passing `weights=ResNet50_Weights.IMAGENET1K_V1`. You can also use `weights=ResNet50_Weights.DEFAULT` to get the most up-to-date weights.\n",
      "  warnings.warn(msg)\n",
      "100%|██████████| 600/600 [02:38<00:00,  3.78batch/s, accuracy=10.1, loss=2.36]\n",
      "  1%|          | 100/10000 [00:14<23:58,  6.88it/s]\n"
     ]
    },
    {
     "name": "stdout",
     "output_type": "stream",
     "text": [
      "Epoch 1, Train Loss: 2.3590021761258444, Train Acc: 10.145. Test Loss: 2.363150744438171, Test Acc: 9.8\n"
     ]
    },
    {
     "name": "stderr",
     "output_type": "stream",
     "text": [
      " 60%|██████    | 361/600 [01:29<00:59,  4.05batch/s, accuracy=9.88, loss=2.36]\n"
     ]
    },
    {
     "ename": "KeyboardInterrupt",
     "evalue": "",
     "output_type": "error",
     "traceback": [
      "\u001b[1;31m---------------------------------------------------------------------------\u001b[0m",
      "\u001b[1;31mKeyboardInterrupt\u001b[0m                         Traceback (most recent call last)",
      "Cell \u001b[1;32mIn[2], line 79\u001b[0m\n\u001b[0;32m     77\u001b[0m output_grad \u001b[39m=\u001b[39m torch\u001b[39m.\u001b[39mzeros_like(outputs)\n\u001b[0;32m     78\u001b[0m \u001b[39mfor\u001b[39;00m idx, l \u001b[39min\u001b[39;00m \u001b[39menumerate\u001b[39m(labels):\n\u001b[1;32m---> 79\u001b[0m     output_grad[idx, l] \u001b[39m=\u001b[39m \u001b[39m1\u001b[39m\n\u001b[0;32m     80\u001b[0m output_grad \u001b[39m-\u001b[39m\u001b[39m=\u001b[39m outputs\n\u001b[0;32m     81\u001b[0m output_grad \u001b[39m/\u001b[39m\u001b[39m=\u001b[39m output_grad\u001b[39m.\u001b[39msize(\u001b[39m0\u001b[39m)\n",
      "\u001b[1;31mKeyboardInterrupt\u001b[0m: "
     ]
    }
   ],
   "source": [
    "class Hebbian(nn.Module):\n",
    "    def __init__(self, input_size, output_size, learning_rate=0.001):\n",
    "        super(Hebbian, self).__init__()\n",
    "        self.linear = nn.Linear(input_size, output_size, bias=False)\n",
    "        self.learning_rate = learning_rate\n",
    "\n",
    "    def forward(self, x):\n",
    "        return self.linear(x)\n",
    "\n",
    "    def update_weights(self, x, y):\n",
    "        delta_w = torch.mm(x.t(), y) * self.learning_rate\n",
    "        delta_w /= torch.norm(delta_w) + 1e-8\n",
    "        self.linear.weight.data.add_(delta_w.t())\n",
    "\n",
    "class HebbianResNet50(nn.Module):\n",
    "    def __init__(self, num_classes=10):\n",
    "        super(HebbianResNet50, self).__init__()\n",
    "        resnet50 = torchvision.models.resnet50(pretrained=True)\n",
    "        self.features = nn.Sequential(*list(resnet50.children())[:-1])\n",
    "        for param in self.features.parameters():\n",
    "            param.requires_grad = False\n",
    "         \n",
    "        self.hebb1 = Hebbian(2048, 2048)\n",
    "        self.hebb2 = Hebbian(2048, num_classes)\n",
    "        self.gelu = nn.GELU()\n",
    "        self.softmax = nn.Softmax(dim=1)\n",
    "\n",
    "    def forward(self, x):\n",
    "        x = self.features(x)\n",
    "        x = x.view(x.size(0), -1)\n",
    "        x = self.gelu(self.hebb1(x))\n",
    "        x = self.softmax(self.hebb2(x))\n",
    "        return x\n",
    "\n",
    "transform = transforms.Compose(\n",
    "    [transforms.Resize(224),\n",
    "     transforms.Grayscale(num_output_channels=3),\n",
    "     transforms.ToTensor(),\n",
    "     transforms.Normalize((0.5,), (0.5,))\n",
    "     ])\n",
    "\n",
    "trainset = torchvision.datasets.MNIST(root='./data', train=True,\n",
    "                                        download=True, transform=transform)\n",
    "trainloader = torch.utils.data.DataLoader(trainset, batch_size=100,\n",
    "                                          shuffle=True, num_workers=2)\n",
    "\n",
    "testset = torchvision.datasets.MNIST(root='./data', train=False,\n",
    "                                       download=True, transform=transform)\n",
    "testloader = torch.utils.data.DataLoader(testset, batch_size=100,\n",
    "                                         shuffle=False, num_workers=2)\n",
    "\n",
    "device = torch.device(\"cuda:0\" if torch.cuda.is_available() else \"cpu\")\n",
    "\n",
    "net = HebbianResNet50().to(device)\n",
    "\n",
    "criterion = nn.CrossEntropyLoss()\n",
    "\n",
    "from tqdm import tqdm\n",
    "\n",
    "epochs = 10\n",
    "\n",
    "for epoch in range(epochs):\n",
    "    running_loss = 0.0\n",
    "    correct = 0\n",
    "    total = 0\n",
    "    with tqdm(trainloader, unit=\"batch\") as tepoch:\n",
    "        for i, data in enumerate(tepoch):\n",
    "            inputs, labels = data\n",
    "            inputs, labels = inputs.to(device), labels.to(device)\n",
    "\n",
    "            net.zero_grad()\n",
    "            outputs = net(inputs)\n",
    "            loss = criterion(outputs, labels)\n",
    "\n",
    "            feat = net.features(inputs).view(inputs.size(0), -1).detach()\n",
    "\n",
    "            output_grad = torch.zeros_like(outputs)\n",
    "            for idx, l in enumerate(labels):\n",
    "                output_grad[idx, l] = 1\n",
    "            output_grad -= outputs\n",
    "            output_grad /= output_grad.size(0)\n",
    "\n",
    "            net.hebb1.update_weights(feat, net.hebb1(feat).detach())\n",
    "            net.hebb2.update_weights(net.hebb1(feat).detach(), output_grad.detach())\n",
    "\n",
    "            _, predicted = torch.max(outputs.data, 1)\n",
    "            total += labels.size(0)\n",
    "            correct += (predicted == labels).sum().item()\n",
    "\n",
    "            running_loss += loss.item()\n",
    "            tepoch.set_postfix(loss=running_loss / (i + 1), accuracy=correct / total * 100)\n",
    "\n",
    "    net.eval()\n",
    "    test_loss = 0.0\n",
    "    test_correct = 0\n",
    "    test_total = 0\n",
    "\n",
    "    with torch.no_grad(), tqdm(total=len(testset)) as pbar:\n",
    "        for data in testloader:\n",
    "            images, labels = data\n",
    "            images, labels = images.to(device), labels.to(device)\n",
    "\n",
    "            outputs = net(images)\n",
    "            loss = criterion(outputs, labels)\n",
    "\n",
    "            _, predicted = torch.max(outputs.data, 1)\n",
    "            test_total += labels.size(0)\n",
    "            test_correct += (predicted == labels).sum().item()\n",
    "\n",
    "            test_loss += loss.item()\n",
    "            pbar.update(1)\n",
    "\n",
    "    print(f\"Epoch {epoch + 1}, Train Loss: {running_loss / (i + 1)}, Train Acc: {correct / total * 100}. Test Loss: {test_loss / len(testloader)}, Test Acc: {test_correct / test_total * 100}\")\n",
    "\n",
    "print(\"Finished Training\")\n"
   ]
  }
 ],
 "metadata": {
  "kernelspec": {
   "display_name": "elsr-test",
   "language": "python",
   "name": "python3"
  },
  "language_info": {
   "codemirror_mode": {
    "name": "ipython",
    "version": 3
   },
   "file_extension": ".py",
   "mimetype": "text/x-python",
   "name": "python",
   "nbconvert_exporter": "python",
   "pygments_lexer": "ipython3",
   "version": "3.10.9"
  },
  "orig_nbformat": 4
 },
 "nbformat": 4,
 "nbformat_minor": 2
}
