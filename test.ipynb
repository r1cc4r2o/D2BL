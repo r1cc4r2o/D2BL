{
 "cells": [
  {
   "cell_type": "code",
   "execution_count": 1,
   "metadata": {},
   "outputs": [
    {
     "ename": "TypeError",
     "evalue": "unsupported operand type(s) for *: 'Parameter' and 'function'",
     "output_type": "error",
     "traceback": [
      "\u001b[0;31m---------------------------------------------------------------------------\u001b[0m",
      "\u001b[0;31mTypeError\u001b[0m                                 Traceback (most recent call last)",
      "Cell \u001b[0;32mIn[1], line 3\u001b[0m\n\u001b[1;32m      1\u001b[0m \u001b[39mfrom\u001b[39;00m \u001b[39mmodel\u001b[39;00m \u001b[39mimport\u001b[39;00m MLP\n\u001b[0;32m----> 3\u001b[0m model \u001b[39m=\u001b[39m MLP()\n\u001b[1;32m      5\u001b[0m model\n",
      "File \u001b[0;32m~/Desktop/uni/bio-ai/d-lea/model.py:10\u001b[0m, in \u001b[0;36mMLP.__init__\u001b[0;34m(self)\u001b[0m\n\u001b[1;32m      8\u001b[0m \u001b[39msuper\u001b[39m(MLP, \u001b[39mself\u001b[39m)\u001b[39m.\u001b[39m\u001b[39m__init__\u001b[39m()\n\u001b[1;32m      9\u001b[0m \u001b[39mself\u001b[39m\u001b[39m.\u001b[39ml1 \u001b[39m=\u001b[39m nn\u001b[39m.\u001b[39mLinear(\u001b[39m256\u001b[39m, \u001b[39m512\u001b[39m)\n\u001b[0;32m---> 10\u001b[0m \u001b[39mself\u001b[39m\u001b[39m.\u001b[39ml2 \u001b[39m=\u001b[39m LinW(in_features\u001b[39m=\u001b[39;49m\u001b[39m512\u001b[39;49m, out_features\u001b[39m=\u001b[39;49m\u001b[39m512\u001b[39;49m, depth\u001b[39m=\u001b[39;49m\u001b[39m1\u001b[39;49m)\n\u001b[1;32m     11\u001b[0m \u001b[39mself\u001b[39m\u001b[39m.\u001b[39ml3 \u001b[39m=\u001b[39m LinW(in_features\u001b[39m=\u001b[39m\u001b[39m512\u001b[39m, out_features\u001b[39m=\u001b[39m\u001b[39m512\u001b[39m, depth\u001b[39m=\u001b[39m\u001b[39m2\u001b[39m)\n\u001b[1;32m     12\u001b[0m \u001b[39mself\u001b[39m\u001b[39m.\u001b[39ml4 \u001b[39m=\u001b[39m nn\u001b[39m.\u001b[39mLinear(\u001b[39m512\u001b[39m, \u001b[39m10\u001b[39m)\n",
      "File \u001b[0;32m~/Desktop/uni/bio-ai/d-lea/model.py:27\u001b[0m, in \u001b[0;36mLinW.__init__\u001b[0;34m(self, in_features, out_features, depth)\u001b[0m\n\u001b[1;32m     25\u001b[0m \u001b[39msuper\u001b[39m(LinW, \u001b[39mself\u001b[39m)\u001b[39m.\u001b[39m\u001b[39m__init__\u001b[39m(in_features\u001b[39m=\u001b[39min_features, out_features\u001b[39m=\u001b[39mout_features)\n\u001b[1;32m     26\u001b[0m \u001b[39mself\u001b[39m\u001b[39m.\u001b[39mwd \u001b[39m=\u001b[39m wd([\u001b[39mself\u001b[39m])\n\u001b[0;32m---> 27\u001b[0m \u001b[39mself\u001b[39m\u001b[39m.\u001b[39mweight \u001b[39m=\u001b[39m \u001b[39mself\u001b[39;49m\u001b[39m.\u001b[39;49mweight \u001b[39m*\u001b[39;49m wd\n",
      "\u001b[0;31mTypeError\u001b[0m: unsupported operand type(s) for *: 'Parameter' and 'function'"
     ]
    }
   ],
   "source": [
    "from model import MLP\n",
    "\n",
    "model = MLP()\n",
    "\n",
    "model"
   ]
  }
 ],
 "metadata": {
  "kernelspec": {
   "display_name": "dlea",
   "language": "python",
   "name": "python3"
  },
  "language_info": {
   "codemirror_mode": {
    "name": "ipython",
    "version": 3
   },
   "file_extension": ".py",
   "mimetype": "text/x-python",
   "name": "python",
   "nbconvert_exporter": "python",
   "pygments_lexer": "ipython3",
   "version": "3.9.16"
  },
  "orig_nbformat": 4
 },
 "nbformat": 4,
 "nbformat_minor": 2
}
